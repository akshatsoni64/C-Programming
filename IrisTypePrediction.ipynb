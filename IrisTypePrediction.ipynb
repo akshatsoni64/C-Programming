{
  "nbformat": 4,
  "nbformat_minor": 0,
  "metadata": {
    "colab": {
      "name": "IrisTypePrediction.ipynb",
      "version": "0.3.2",
      "provenance": [],
      "collapsed_sections": [],
      "include_colab_link": true
    },
    "kernelspec": {
      "name": "python3",
      "display_name": "Python 3"
    }
  },
  "cells": [
    {
      "cell_type": "markdown",
      "metadata": {
        "id": "view-in-github",
        "colab_type": "text"
      },
      "source": [
        "<a href=\"https://colab.research.google.com/github/akshatsoni64/C-Programming/blob/master/IrisTypePrediction.ipynb\" target=\"_parent\"><img src=\"https://colab.research.google.com/assets/colab-badge.svg\" alt=\"Open In Colab\"/></a>"
      ]
    },
    {
      "cell_type": "code",
      "metadata": {
        "id": "fzSvEZq7Pe_2",
        "colab_type": "code",
        "colab": {}
      },
      "source": [
        "from sklearn.datasets import load_iris\n",
        "from sklearn.neighbors import KNeighborsClassifier\n",
        "import numpy as np\n",
        "from sklearn.model_selection import train_test_split"
      ],
      "execution_count": 0,
      "outputs": []
    },
    {
      "cell_type": "code",
      "metadata": {
        "id": "pLMoWQbJQcWY",
        "colab_type": "code",
        "colab": {}
      },
      "source": [
        "iris_dataset=load_iris()\n",
        "X_train, X_test, y_train, y_test = train_test_split(iris_dataset[\"data\"], iris_dataset[\"target\"], random_state=0)\n",
        "kn=KNeighborsClassifier(n_neighbors=1)"
      ],
      "execution_count": 0,
      "outputs": []
    },
    {
      "cell_type": "code",
      "metadata": {
        "id": "wbnNyl5NRPP4",
        "colab_type": "code",
        "colab": {}
      },
      "source": [
        "kn.fit(X_train, y_train)\n",
        "x_new = np.array([[5, 2.9, 1, 0.2]]) \n",
        "prediction=kn.predict(x_new)\n"
      ],
      "execution_count": 0,
      "outputs": []
    },
    {
      "cell_type": "code",
      "metadata": {
        "id": "4WiEQNowR0M5",
        "colab_type": "code",
        "colab": {
          "base_uri": "https://localhost:8080/",
          "height": 102
        },
        "outputId": "5de5c355-bff1-4f84-db28-2460812f5d32"
      },
      "source": [
        "\n",
        "print(\"Predicted target value: {}\\n\".format(prediction)) \n",
        "print(\"Predicted feature name: {}\\n\".format\n",
        "    (iris_dataset[\"target_names\"][prediction])) \n",
        "print(\"Test score: {:.2f}\".format(kn.score(X_test, y_test))) "
      ],
      "execution_count": 6,
      "outputs": [
        {
          "output_type": "stream",
          "text": [
            "Predicted target value: [0]\n",
            "\n",
            "Predicted feature name: ['setosa']\n",
            "\n",
            "Test score: 0.97\n"
          ],
          "name": "stdout"
        }
      ]
    }
  ]
}